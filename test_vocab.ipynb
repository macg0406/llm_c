{
 "cells": [
  {
   "cell_type": "code",
   "execution_count": 15,
   "metadata": {},
   "outputs": [],
   "source": [
    "import json\n",
    "import struct"
   ]
  },
  {
   "cell_type": "code",
   "execution_count": 2,
   "metadata": {},
   "outputs": [],
   "source": [
    "with open(\"models/qwen/Qwen2-0.5B-Instruct/tokenizer.json\", \"r\", encoding=\"utf-8\") as f:\n",
    "    tokenizer_config = json.load(f)"
   ]
  },
  {
   "cell_type": "code",
   "execution_count": 3,
   "metadata": {},
   "outputs": [],
   "source": [
    "vocab = [\"\" for _ in range(151936)]"
   ]
  },
  {
   "cell_type": "code",
   "execution_count": 4,
   "metadata": {},
   "outputs": [],
   "source": [
    "for k, v in tokenizer_config[\"model\"][\"vocab\"].items():\n",
    "    vocab[v] = k"
   ]
  },
  {
   "cell_type": "code",
   "execution_count": 5,
   "metadata": {},
   "outputs": [],
   "source": [
    "for item in tokenizer_config[\"added_tokens\"]:\n",
    "    vocab[item[\"id\"]] = item[\"content\"]"
   ]
  },
  {
   "cell_type": "code",
   "execution_count": 8,
   "metadata": {},
   "outputs": [
    {
     "name": "stdout",
     "output_type": "stream",
     "text": [
      "151646\n"
     ]
    }
   ],
   "source": [
    "max_len = max([i+1 for i, s in enumerate(vocab) if s])\n",
    "print(max_len)"
   ]
  },
  {
   "cell_type": "code",
   "execution_count": 11,
   "metadata": {},
   "outputs": [
    {
     "name": "stdout",
     "output_type": "stream",
     "text": [
      "151646\n",
      "151646\n"
     ]
    }
   ],
   "source": [
    "scores = []\n",
    "tokens = []\n",
    "for s in vocab[:max_len]:\n",
    "    scores.append(len(s) ** 2 + 0.0)\n",
    "    t = s.replace(\"Ġ\", \" \")\n",
    "    t = t.replace(\"Ċ\", \"\\n\")\n",
    "    tokens.append(t.encode('utf-8'))\n",
    "print(len(scores))\n",
    "print(len(tokens))"
   ]
  },
  {
   "cell_type": "code",
   "execution_count": 17,
   "metadata": {},
   "outputs": [
    {
     "name": "stdout",
     "output_type": "stream",
     "text": [
      "290\n"
     ]
    }
   ],
   "source": [
    "print(151936 - 151646)"
   ]
  },
  {
   "cell_type": "code",
   "execution_count": 12,
   "metadata": {},
   "outputs": [
    {
     "name": "stdout",
     "output_type": "stream",
     "text": [
      "128\n"
     ]
    }
   ],
   "source": [
    "max_token_length = max(len(t) for t in tokens)\n",
    "print(max_token_length)"
   ]
  },
  {
   "cell_type": "code",
   "execution_count": 13,
   "metadata": {},
   "outputs": [],
   "source": [
    "tokenizer_bin = \"qwen2_tokenizer.bin\""
   ]
  },
  {
   "cell_type": "code",
   "execution_count": 16,
   "metadata": {},
   "outputs": [],
   "source": [
    "with open(tokenizer_bin, 'wb') as f:\n",
    "    f.write(struct.pack(\"II\", len(tokens), max_token_length))\n",
    "    for bytes, score in zip(tokens, scores):\n",
    "        f.write(struct.pack(\"fI\", score, len(bytes)))\n",
    "        f.write(bytes)"
   ]
  },
  {
   "cell_type": "code",
   "execution_count": null,
   "metadata": {},
   "outputs": [],
   "source": []
  },
  {
   "cell_type": "code",
   "execution_count": 7,
   "metadata": {},
   "outputs": [
    {
     "name": "stdout",
     "output_type": "stream",
     "text": [
      "['', '', '', '', '', '', '', '', '', '', '', '', '', '', '', '', '', '', '', '', '', '', '', '', '', '', '', '', '', '', '', '', '', '', '', '', '', '', '', '', '', '', '', '', '', '', '', '', '', '', '', '', '', '', '', '', '', '', '', '', '', '', '', '', '', '', '', '', '', '', '', '', '', '', '', '', '', '', '', '', '', '', '', '', '', '', '', '', '', '', '', '', '', '', '', '', '', '', '', '']\n"
     ]
    }
   ],
   "source": [
    "print(vocab[-100:])"
   ]
  },
  {
   "cell_type": "code",
   "execution_count": 6,
   "metadata": {},
   "outputs": [
    {
     "name": "stdout",
     "output_type": "stream",
     "text": [
      "â½Ĺ 151642\n"
     ]
    }
   ],
   "source": [
    "print(k, v)"
   ]
  },
  {
   "cell_type": "code",
   "execution_count": 10,
   "metadata": {},
   "outputs": [
    {
     "name": "stdout",
     "output_type": "stream",
     "text": [
      "[29, 151644, 8948, 198, 2610, 525, 264, 10950, 17847, 13, 151645, 198, 151644, 872, 198, 35127, 752, 264, 2805, 16800, 311, 3460, 4128, 1614, 13, 151645, 198, 151644, 77091, 198]\n"
     ]
    }
   ],
   "source": [
    "with open(\"prompt_tokens.txt\", \"r\") as fin:\n",
    "    prompt_tokens = fin.read()\n",
    "    id_list = [int(i) for i in prompt_tokens.split(\" \")]\n",
    "    print(id_list)"
   ]
  },
  {
   "cell_type": "code",
   "execution_count": 11,
   "metadata": {},
   "outputs": [],
   "source": [
    "str_list = []\n",
    "for i in id_list[1:]:\n",
    "    token = vocab[i]\n",
    "    if not token:\n",
    "        print(f\"Empty for id: {i}.\")\n",
    "    str_list.append(token)"
   ]
  },
  {
   "cell_type": "code",
   "execution_count": 14,
   "metadata": {},
   "outputs": [],
   "source": [
    "output = \"\".join(str_list).replace(\"Ġ\", \" \")\n",
    "output = output.replace(\"Ċ\", \"\\n\")"
   ]
  },
  {
   "cell_type": "code",
   "execution_count": 16,
   "metadata": {},
   "outputs": [
    {
     "name": "stdout",
     "output_type": "stream",
     "text": [
      "288\n",
      "32\n",
      "266\n",
      "10\n"
     ]
    }
   ],
   "source": [
    "print(ord(\"Ġ\"))\n",
    "print(ord(\" \"))\n",
    "print(ord(\"Ċ\"))\n",
    "print(ord(\"\\n\"))"
   ]
  },
  {
   "cell_type": "code",
   "execution_count": 15,
   "metadata": {},
   "outputs": [
    {
     "name": "stdout",
     "output_type": "stream",
     "text": [
      "<|im_start|>system\n",
      "You are a helpful assistant.<|im_end|>\n",
      "<|im_start|>user\n",
      "Give me a short introduction to large language model.<|im_end|>\n",
      "<|im_start|>assistant\n",
      "\n"
     ]
    }
   ],
   "source": [
    "print(output)"
   ]
  },
  {
   "cell_type": "code",
   "execution_count": 17,
   "metadata": {},
   "outputs": [
    {
     "name": "stdout",
     "output_type": "stream",
     "text": [
      "151645\n"
     ]
    }
   ],
   "source": [
    "max_id = 0\n",
    "for i, v in enumerate(vocab):\n",
    "    if v:\n",
    "        max_id = i\n",
    "print(max_id)"
   ]
  },
  {
   "cell_type": "code",
   "execution_count": 18,
   "metadata": {},
   "outputs": [],
   "source": [
    "with open(\"tokenizer_vocab.txt\", \"w\", encoding=\"utf-8\") as fout:\n",
    "    for v in vocab[:151646]:\n",
    "        fout.write(v + \"\\n\")"
   ]
  },
  {
   "cell_type": "code",
   "execution_count": null,
   "metadata": {},
   "outputs": [],
   "source": [
    "with open(\"tokenizer.bin\", \"wb\") as f:\n",
    "    for v in vocab:\n",
    "        f.write(v.encode(\"utf-8\"))\n",
    "        f.write(b'\\0')"
   ]
  }
 ],
 "metadata": {
  "kernelspec": {
   "display_name": "Python 3",
   "language": "python",
   "name": "python3"
  },
  "language_info": {
   "codemirror_mode": {
    "name": "ipython",
    "version": 3
   },
   "file_extension": ".py",
   "mimetype": "text/x-python",
   "name": "python",
   "nbconvert_exporter": "python",
   "pygments_lexer": "ipython3",
   "version": "3.12.2"
  }
 },
 "nbformat": 4,
 "nbformat_minor": 2
}
